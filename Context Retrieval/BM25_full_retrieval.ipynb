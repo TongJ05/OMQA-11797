{
 "cells": [
  {
   "cell_type": "code",
   "execution_count": 2,
   "metadata": {},
   "outputs": [],
   "source": [
    "import os, random, json, pickle\n",
    "import numpy as np\n",
    "import torch\n",
    "from tqdm import tqdm\n",
    "from collections import Counter, defaultdict\n",
    "import json"
   ]
  },
  {
   "cell_type": "code",
   "execution_count": 2,
   "metadata": {},
   "outputs": [],
   "source": [
    "data_dir = \"/home/yingshac/CYS/WebQnA/WebQnA_data_new/\""
   ]
  },
  {
   "cell_type": "markdown",
   "metadata": {},
   "source": [
    "# Compute scores for BM25 full-scale retrieval"
   ]
  },
  {
   "cell_type": "code",
   "execution_count": 4,
   "metadata": {},
   "outputs": [],
   "source": [
    "### Load val/test Retrieval_answers\n",
    "split='test'\n",
    "imgRetrievalAns = pickle.load(open(os.path.join(data_dir, \"CLIP_retrieval_experiments/{}_imgRetrievalAns.pkl\".format(split)), \"rb\"))\n",
    "txtRetrievalAns = pickle.load(open(os.path.join(data_dir, \"CLIP_retrieval_experiments/{}_txtRetrievalAns.pkl\".format(split)), \"rb\"))"
   ]
  },
  {
   "cell_type": "code",
   "execution_count": 5,
   "metadata": {},
   "outputs": [],
   "source": [
    "QimgBM25_top2_i = torch.load(\"result_matrix_II.pt\".format(split))\n",
    "QtxtBM25_top2_i = torch.load(\"result_matrix_TT.pt\".format(split))"
   ]
  },
  {
   "cell_type": "code",
   "execution_count": 3,
   "metadata": {},
   "outputs": [],
   "source": [
    "def compute_retrieval_metrics(pred, gth):\n",
    "    print(f'prediction: {pred}, gth: {gth}')\n",
    "    common = len(set(pred).intersection(gth))\n",
    "    RE = common / (len(gth)) \n",
    "    PR = common / (len(pred)) # No protection against division by zero because it's assumed that CLIP never gives empty output\n",
    "    F1 = 2*PR*RE / (PR + RE + 1e-5)\n",
    "    return F1, RE, PR"
   ]
  },
  {
   "cell_type": "code",
   "execution_count": 11,
   "metadata": {},
   "outputs": [
    {
     "name": "stdout",
     "output_type": "stream",
     "text": [
      "BM25 Top2 img queries: F1=0.2019, RE=0.2574, PR=0.1742\n",
      "BN25 Top2 txt queries: F1=0.3342, RE=0.3334, PR=0.3356\n"
     ]
    }
   ],
   "source": [
    "top2_perf = [compute_retrieval_metrics(set(QimgBM25_top2_i[i].numpy()), set(imgRetrievalAns[i])) for i in range(len(imgRetrievalAns))]\n",
    "print(\"BM25 Top2 img queries: F1={:.4f}, RE={:.4f}, PR={:.4f}\".format(np.mean([P[0] for P in top2_perf]), np.mean([P[1] for P in top2_perf]), np.mean([P[2] for P in top2_perf]) ))\n",
    "\n",
    "top2_perf = [compute_retrieval_metrics(set(QtxtBM25_top2_i[i].numpy()), set(txtRetrievalAns[i])) for i in range(len(txtRetrievalAns))]\n",
    "print(\"BN25 Top2 txt queries: F1={:.4f}, RE={:.4f}, PR={:.4f}\".format(np.mean([P[0] for P in top2_perf]), np.mean([P[1] for P in top2_perf]), np.mean([P[2] for P in top2_perf]) ))\n"
   ]
  },
  {
   "cell_type": "code",
   "execution_count": 16,
   "metadata": {},
   "outputs": [],
   "source": [
    "### Refer to I/T_unknown_modality_bm25.py. \n",
    "### The I_corpus was appended after T_corpus. So all img indices are shifted by 544489\n",
    "imgRetrievalAns_unknownM = {}\n",
    "for i in imgRetrievalAns:\n",
    "    imgRetrievalAns_unknownM[i] = [j+544489 for j in imgRetrievalAns[i]]"
   ]
  },
  {
   "cell_type": "code",
   "execution_count": 6,
   "metadata": {},
   "outputs": [],
   "source": [
    "QimgBM25_unknownM_top2_i = torch.load(\"result_matrix_Iall.pt\".format(split))\n",
    "QtxtBM25_unknownM_top2_i = torch.load(\"result_matrix_Tall.pt\".format(split))"
   ]
  },
  {
   "cell_type": "code",
   "execution_count": 20,
   "metadata": {},
   "outputs": [
    {
     "name": "stdout",
     "output_type": "stream",
     "text": [
      "BM25 Top2 unknownM img queries: F1=0.2043, RE=0.2597, PR=0.1767\n",
      "BN25 Top2 unknownM txt queries: F1=0.2815, RE=0.2810, PR=0.2825\n"
     ]
    }
   ],
   "source": [
    "top2_perf = [compute_retrieval_metrics(set(QimgBM25_unknownM_top2_i[i].numpy()), set(imgRetrievalAns_unknownM[i])) for i in range(len(imgRetrievalAns_unknownM))]\n",
    "print(\"BM25 Top2 unknownM img queries: F1={:.4f}, RE={:.4f}, PR={:.4f}\".format(np.mean([P[0] for P in top2_perf]), np.mean([P[1] for P in top2_perf]), np.mean([P[2] for P in top2_perf]) ))\n",
    "\n",
    "top2_perf = [compute_retrieval_metrics(set(QtxtBM25_unknownM_top2_i[i].numpy()), set(txtRetrievalAns[i])) for i in range(len(txtRetrievalAns))]\n",
    "print(\"BN25 Top2 unknownM txt queries: F1={:.4f}, RE={:.4f}, PR={:.4f}\".format(np.mean([P[0] for P in top2_perf]), np.mean([P[1] for P in top2_perf]), np.mean([P[2] for P in top2_perf]) ))\n"
   ]
  },
  {
   "cell_type": "markdown",
   "metadata": {},
   "source": [
    "# BM25 Restricted Retrieval"
   ]
  },
  {
   "cell_type": "code",
   "execution_count": 4,
   "metadata": {},
   "outputs": [
    {
     "name": "stdout",
     "output_type": "stream",
     "text": [
      "Counter({'train': 3387, 'val': 527})\n",
      "3914\n",
      "Counter({'YesNo': 1150, 'Others': 1030, 'choose': 882, 'number': 424, 'color': 325, 'shape': 103})\n"
     ]
    }
   ],
   "source": [
    "dataset = json.load(open(\"../../WebQA_toy.json\", \"r\"))\n",
    "print(Counter([dataset[k]['split'] for k in dataset]))\n",
    "print(len(set([dataset[k]['Guid'] for k in dataset])))\n",
    "print(Counter([dataset[k]['Qcate'] for k in dataset]))\n"
   ]
  },
  {
   "cell_type": "code",
   "execution_count": 5,
   "metadata": {},
   "outputs": [],
   "source": [
    "from gensim import corpora\n",
    "from gensim.summarization import bm25"
   ]
  },
  {
   "cell_type": "code",
   "execution_count": null,
   "metadata": {},
   "outputs": [],
   "source": [
    "def top_n(n):\n",
    "    retricted_bm25_scores = {'Qimg': [], 'Qtxt': []}\n",
    "    for g in tqdm(list(dataset.keys())):\n",
    "        print(g)\n",
    "        # if not dataset[g]['split'] == 'test': continue\n",
    "        key = 'Qtxt' if dataset[g]['Qcate'] == 'text' else 'Qimg'\n",
    "        corpus = []\n",
    "        if key == 'Qtxt':\n",
    "            corpus.extend([x['fact'].split() for x in dataset[g]['txt_posFacts']])\n",
    "            ans = list(range(len(corpus)))\n",
    "        else:\n",
    "            corpus.extend([x['caption'].split() for x in dataset[g]['img_posFacts']])\n",
    "            ans = list(range(len(corpus)))\n",
    "        corpus.extend([x['fact'].split() for x in dataset[g]['txt_negFacts']])\n",
    "        corpus.extend([x['caption'].split() for x in dataset[g]['img_negFacts']])\n",
    "\n",
    "        dictionary = corpora.Dictionary(corpus)\n",
    "        corpus = [dictionary.doc2bow(text) for text in corpus]\n",
    "        bm25_obj = bm25.BM25(corpus)\n",
    "\n",
    "        query_doc = dictionary.doc2bow(dataset[g]['Q'].replace('\"', '').split())\n",
    "        scores = bm25_obj.get_scores(query_doc)\n",
    "        best_docs = sorted(range(len(scores)), key=lambda i: scores[i])[-n:]\n",
    "        \n",
    "        retricted_bm25_scores[key].append(compute_retrieval_metrics(set(best_docs), set(ans)))\n",
    "    return retricted_bm25_scores"
   ]
  },
  {
   "cell_type": "code",
   "execution_count": null,
   "metadata": {},
   "outputs": [],
   "source": [
    "import matplotlib.pyplot as plt\n",
    "\n",
    "def diff_top_n_result():\n",
    "    img_f1 = []\n",
    "    img_RE = []\n",
    "    img_PR = []\n",
    "    for n in range(1, 2):\n",
    "        retricted_bm25_scores = top_n(n)\n",
    "        print(len(retricted_bm25_scores['Qimg']), len(retricted_bm25_scores['Qtxt']))\n",
    "        img_f1.append(np.mean([P[0] for P in retricted_bm25_scores['Qimg']]))\n",
    "        img_RE.append(np.mean([P[1] for P in retricted_bm25_scores['Qimg']]))\n",
    "        img_PR.append(np.mean([P[2] for P in retricted_bm25_scores['Qimg']]))\n",
    "\n",
    "        # print(\"BM25 Top{} unknownM img queries: F1={:.4f}, RE={:.4f}, PR={:.4f}\".format(n, np.mean([P[0] for P in retricted_bm25_scores['Qimg']]), np.mean([P[1] for P in retricted_bm25_scores['Qimg']]), np.mean([P[2] for P in retricted_bm25_scores['Qimg']]) ))\n",
    "        # print(\"BM25 Top{} unknownM txt queries: F1={:.4f}, RE={:.4f}, PR={:.4f}\".format(n, np.mean([P[0] for P in retricted_bm25_scores['Qtxt']]), np.mean([P[1] for P in retricted_bm25_scores['Qtxt']]), np.mean([P[2] for P in retricted_bm25_scores['Qtxt']]) ))\n",
    "    x = list(range(1, len(img_f1) + 1))\n",
    "\n",
    "    # Plot the lists\n",
    "    plt.plot(x, img_f1, marker='o', linestyle='-', label=\"F1\")\n",
    "    plt.plot(x, img_RE, marker='s', linestyle='--', label=\"RE\")\n",
    "    plt.plot(x, img_PR, marker='d', linestyle='-.', label=\"PR\")\n",
    "\n",
    "    # Labels and title\n",
    "    plt.xlabel(\"Selecting top x scores\", fontsize=12)\n",
    "    plt.ylabel(\"Results\", fontsize=12)\n",
    "    plt.title(\"Comparison of selecting different top scores\", fontsize=14)\n",
    "\n",
    "    # Add legend\n",
    "    plt.legend()\n",
    "\n",
    "    # Show the plot\n",
    "    plt.grid(True)  # Optional: Adds a grid for better readability\n",
    "    plt.show()\n",
    "diff_top_n_result()"
   ]
  },
  {
   "cell_type": "markdown",
   "metadata": {},
   "source": [
    "# Generate submission files to eval.ai to double check retrieval results"
   ]
  },
  {
   "cell_type": "code",
   "execution_count": 9,
   "metadata": {},
   "outputs": [],
   "source": [
    "### Load uniid2fact\n",
    "fact2uniid = pickle.load(open(os.path.join(data_dir, \"CLIP_retrieval_experiments/fact2uniid.pkl\"), \"rb\"))\n",
    "uniid2fact = {i:fact for fact, i in fact2uniid.items()}\n",
    "\n",
    "# Read test_imgguid2qid, test_txtguid2qid\n",
    "test_imgguid2qid = pickle.load(open(os.path.join(data_dir, \"CLIP_retrieval_experiments/test_imgguid2qid.pkl\"), \"rb\"))\n",
    "test_txtguid2qid = pickle.load(open(os.path.join(data_dir, \"CLIP_retrieval_experiments/test_txtguid2qid.pkl\"), \"rb\"))"
   ]
  },
  {
   "cell_type": "code",
   "execution_count": 16,
   "metadata": {},
   "outputs": [],
   "source": [
    "evalai_submission_BM25_unknownM = {}\n",
    "for g in dataset:\n",
    "    if not dataset[g]['split'] == 'test': continue\n",
    "    if dataset[g]['Qcate'] == 'text':\n",
    "        retrieved_snippet_ids = []\n",
    "        retrieved_facts = []\n",
    "        for x in QtxtBM25_unknownM_top2_i[test_txtguid2qid[g]].tolist():\n",
    "            if x < 544489: retrieved_facts.append(uniid2fact[x])\n",
    "        for x in dataset[g]['txt_posFacts']:\n",
    "            if x['fact'] in retrieved_facts:\n",
    "                retrieved_snippet_ids.append(x['snippet_id'])\n",
    "        retrieved_snippet_ids.extend((2-len(retrieved_snippet_ids))*[\"dummy\"])\n",
    "        evalai_submission_BM25_unknownM[g] = {'sources': retrieved_snippet_ids, 'answer': \"\"}\n",
    "    else:\n",
    "        evalai_submission_BM25_unknownM[g] = \\\n",
    "            {'sources': [ x+30000000-544489 for x in QimgBM25_unknownM_top2_i[test_imgguid2qid[g]].tolist() ], \n",
    "            'answer': \"\"}\n",
    "\n",
    "json.dump(evalai_submission_BM25_unknownM, open(\"evalai_submission_BM25_unknownM.json\", \"w\"))\n"
   ]
  },
  {
   "cell_type": "code",
   "execution_count": 1,
   "metadata": {},
   "outputs": [
    {
     "data": {
      "image/png": "[encoded data removed]",
      "text/plain": [
       "<Figure size 1008x504 with 1 Axes>"
      ]
     },
     "metadata": {
      "needs_background": "light"
     },
     "output_type": "display_data"
    }
   ],
   "source": [
    "import numpy as np\n",
    "import matplotlib.pyplot as plt\n",
    "\n",
    "# Data from two tables\n",
    "metrics = ['F1', 'Recall', 'Precision']\n",
    "img_values_2 = [0.2851, 0.3598, 0.2477]  # First table (Img queries)\n",
    "text_values_2 = [0.1831, 0.1817, 0.1853]  # First table (Text queries)\n",
    "\n",
    "img_values_1 = [0.2450, 0.3080, 0.2136]  # Second table (Img queries)\n",
    "text_values_1 = [0.4156, 0.4148, 0.4177]  # Second table (Text queries)\n",
    "\n",
    "x = np.arange(len(metrics))  # X-axis positions\n",
    "fig, ax = plt.subplots(figsize=(14, 7))  # Adjust size (Width x Height)\n",
    "width = 0.2  # Bar width\n",
    "\n",
    "# fig, ax = plt.subplots()\n",
    "ax.bar(x - width, img_values_1, width, label='Img Queries - BM25', color='#4C72B0')\n",
    "ax.bar(x, img_values_2, width, label='Img Queries - VLP', color='#A6CEE3')\n",
    "ax.bar(x + width, text_values_1, width, label='Text Queries - BM25', color='#F4A261')\n",
    "ax.bar(x + 2*width, text_values_2, width, label='Text Queries - VLP', color='#FDD9A0')\n",
    "\n",
    "ax.set_xlabel(\"Metrics\")\n",
    "ax.set_ylabel(\"Values\")\n",
    "ax.set_title(\"Comparison of Metrics between Two Tables\")\n",
    "ax.set_xticks(x + width / 2)\n",
    "ax.set_xticklabels(metrics)\n",
    "ax.legend()\n",
    "plt.show()\n"
   ]
  },
  {
   "cell_type": "code",
   "execution_count": null,
   "metadata": {},
   "outputs": [],
   "source": [
    "metrics = ['F1', 'Recall', 'Precision']\n",
    "\n",
    "# 2 times\n",
    "img_values_2 = [0.3866, 0.5798, 0.2899]  \n",
    "text_values_2 = [0.4180, 0.6271, 0.3136]  \n",
    "# dynamic\n",
    "img_values_1 = [0.3986, 0.5512, 0.3145]  \n",
    "text_values_1 = [0.4447, 0.5549, 0.3712]  \n",
    "# strict\n",
    "img_values_1 = [0.4327, 0.4327, 0.4327]  \n",
    "text_values_1 = [0.4653, 0.4653, 0.4653] \n",
    "# baseline\n",
    "img_values_1 = [ 0.2450, 0.3080, 0.2136]  \n",
    "text_values_1 = [0.4156, 0.4148, 0.4177] \n"
   ]
  },
  {
   "cell_type": "code",
   "execution_count": 4,
   "metadata": {},
   "outputs": [
    {
     "data": {
      "image/png": "[encoded data removed]",
      "text/plain": [
       "<Figure size 864x432 with 1 Axes>"
      ]
     },
     "metadata": {
      "needs_background": "light"
     },
     "output_type": "display_data"
    }
   ],
   "source": [
    "import matplotlib.pyplot as plt\n",
    "import numpy as np\n",
    "\n",
    "# Metrics and setup\n",
    "metrics = ['F1', 'Recall', 'Precision']\n",
    "num_metrics = len(metrics)\n",
    "width = 0.18\n",
    "group_gap = 0.3  # space between metric groups\n",
    "\n",
    "# Group centers for each metric\n",
    "group_centers = np.arange(num_metrics) * (8 * width + group_gap)\n",
    "\n",
    "# Define moderate color palette\n",
    "colors = {\n",
    "    'baseline_img': '#A9BCD0',\n",
    "    'baseline_text': '#5D829C',\n",
    "    'strict_img': '#F5CDA7',\n",
    "    'strict_text': '#D49A6A',\n",
    "    'two_x_img': '#C5B9CD',\n",
    "    'two_x_text': '#8C7BA3',\n",
    "    'dynamic_img': '#BFD8B8',\n",
    "    'dynamic_text': '#6B8E23'\n",
    "}\n",
    "\n",
    "# Values for each setup (image and text)\n",
    "baseline_img = [0.2450, 0.3080, 0.2136]\n",
    "baseline_text = [0.4156, 0.4148, 0.4177]\n",
    "strict_img = [0.4327, 0.4327, 0.4327]\n",
    "strict_text = [0.4653, 0.4653, 0.4653]\n",
    "two_x_img = [0.3866, 0.5798, 0.2899]\n",
    "two_x_text = [0.4180, 0.6271, 0.3136]\n",
    "dynamic_img = [0.3986, 0.5512, 0.3145]\n",
    "dynamic_text = [0.4447, 0.5549, 0.3712]\n",
    "\n",
    "# Plotting\n",
    "fig, ax = plt.subplots(figsize=(12, 6))\n",
    "\n",
    "for i in range(num_metrics):\n",
    "    base = group_centers[i]\n",
    "    \n",
    "    ax.bar(base - 3.5*width, baseline_img[i], width, color=colors['baseline_img'])\n",
    "    ax.bar(base - 2.5*width, baseline_text[i], width, color=colors['baseline_text'])\n",
    "\n",
    "    ax.bar(base - 1.5*width, strict_img[i], width, color=colors['strict_img'])\n",
    "    ax.bar(base - 0.5*width, strict_text[i], width, color=colors['strict_text'])\n",
    "\n",
    "    ax.bar(base + 0.5*width, two_x_img[i], width, color=colors['two_x_img'])\n",
    "    ax.bar(base + 1.5*width, two_x_text[i], width, color=colors['two_x_text'])\n",
    "\n",
    "    ax.bar(base + 2.5*width, dynamic_img[i], width, color=colors['dynamic_img'])\n",
    "    ax.bar(base + 3.5*width, dynamic_text[i], width, color=colors['dynamic_text'])\n",
    "\n",
    "# Set labels and formatting\n",
    "ax.set_ylabel('Score')\n",
    "ax.set_title('Comparison of BM25 Retrieval Strategies')\n",
    "ax.set_xticks(group_centers)\n",
    "ax.set_xticklabels(metrics)\n",
    "ax.set_ylim(0, 0.7)\n",
    "ax.grid(axis='y', linestyle='--', alpha=0.5)\n",
    "\n",
    "ax.legend([\n",
    "    'Baseline (Img)', 'Baseline (Text)',\n",
    "    'Strict (Img)', 'Strict (Text)',\n",
    "    '2× (Img)', '2× (Text)',\n",
    "    'Dynamic (Img)', 'Dynamic (Text)'\n",
    "], bbox_to_anchor=(1.05, 1), loc='upper left')\n",
    "\n",
    "plt.tight_layout()\n",
    "plt.show()\n"
   ]
  },
  {
   "cell_type": "code",
   "execution_count": 3,
   "metadata": {},
   "outputs": [],
   "source": [
    "import json\n",
    "\n",
    "# Load original JSON\n",
    "with open(\"test_retrieved_contexts_strict.json\", \"r\") as f:\n",
    "    data = json.load(f)\n",
    "\n",
    "# Reformatting logic\n",
    "reformatted = {}\n",
    "\n",
    "for guid, content in data.items():\n",
    "    sources = []\n",
    "    for ctx in content.get(\"Retrieved Contexts\", []):\n",
    "        if \"image_id\" in ctx:\n",
    "            sources.append(str(ctx[\"image_id\"]))\n",
    "        elif \"snippet_id\" in ctx:\n",
    "            sources.append(ctx[\"snippet_id\"])\n",
    "    \n",
    "    answer = content.get(\"Answer\", [\"\"])[0]\n",
    "    reformatted[guid] = {\n",
    "        \"sources\": sources,\n",
    "        \"answer\": answer\n",
    "    }\n",
    "\n",
    "# Save to new JSON\n",
    "with open(\"test__strict_reformatted.json\", \"w\") as f:\n",
    "    json.dump(reformatted, f, indent=2)\n"
   ]
  },
  {
   "cell_type": "code",
   "execution_count": 1,
   "metadata": {},
   "outputs": [
    {
     "name": "stdout",
     "output_type": "stream",
     "text": [
      "🔹 Percentage Increase Over Baseline (Image)\n",
      "Strict (Img):\n",
      "  F1: 76.61%\n",
      "  Recall: 40.49%\n",
      "  Precision: 102.57%\n",
      "\n",
      "2x (Img):\n",
      "  F1: 57.80%\n",
      "  Recall: 88.25%\n",
      "  Precision: 35.72%\n",
      "\n",
      "Dynamic (Img):\n",
      "  F1: 62.69%\n",
      "  Recall: 78.96%\n",
      "  Precision: 47.24%\n",
      "\n",
      "🔹 Percentage Increase Over Baseline (Text)\n",
      "Strict (Text):\n",
      "  F1: 11.96%\n",
      "  Recall: 12.17%\n",
      "  Precision: 11.40%\n",
      "\n",
      "2x (Text):\n",
      "  F1: 0.58%\n",
      "  Recall: 51.18%\n",
      "  Precision: -24.92%\n",
      "\n",
      "Dynamic (Text):\n",
      "  F1: 7.00%\n",
      "  Recall: 33.78%\n",
      "  Precision: -11.13%\n",
      "\n"
     ]
    }
   ],
   "source": [
    "# Define metrics and values\n",
    "metrics = ['F1', 'Recall', 'Precision']\n",
    "\n",
    "baseline_img = [0.2450, 0.3080, 0.2136]\n",
    "strict_img = [0.4327, 0.4327, 0.4327]\n",
    "two_x_img = [0.3866, 0.5798, 0.2899]\n",
    "dynamic_img = [0.3986, 0.5512, 0.3145]\n",
    "\n",
    "baseline_text = [0.4156, 0.4148, 0.4177]\n",
    "strict_text = [0.4653, 0.4653, 0.4653]\n",
    "two_x_text = [0.4180, 0.6271, 0.3136]\n",
    "dynamic_text = [0.4447, 0.5549, 0.3712]\n",
    "\n",
    "def percentage_increase(new, baseline):\n",
    "    return [(n - b) / b * 100 for n, b in zip(new, baseline)]\n",
    "\n",
    "# Calculate increases\n",
    "methods_img = {\n",
    "    'Strict (Img)': percentage_increase(strict_img, baseline_img),\n",
    "    '2x (Img)': percentage_increase(two_x_img, baseline_img),\n",
    "    'Dynamic (Img)': percentage_increase(dynamic_img, baseline_img),\n",
    "}\n",
    "\n",
    "methods_text = {\n",
    "    'Strict (Text)': percentage_increase(strict_text, baseline_text),\n",
    "    '2x (Text)': percentage_increase(two_x_text, baseline_text),\n",
    "    'Dynamic (Text)': percentage_increase(dynamic_text, baseline_text),\n",
    "}\n",
    "\n",
    "# Display results\n",
    "print(\"🔹 Percentage Increase Over Baseline (Image)\")\n",
    "for method, increases in methods_img.items():\n",
    "    print(f\"{method}:\")\n",
    "    for metric, value in zip(metrics, increases):\n",
    "        print(f\"  {metric}: {value:.2f}%\")\n",
    "    print()\n",
    "\n",
    "print(\"🔹 Percentage Increase Over Baseline (Text)\")\n",
    "for method, increases in methods_text.items():\n",
    "    print(f\"{method}:\")\n",
    "    for metric, value in zip(metrics, increases):\n",
    "        print(f\"  {metric}: {value:.2f}%\")\n",
    "    print()\n"
   ]
  }
 ],
 "metadata": {
  "kernelspec": {
   "display_name": "Python 3",
   "language": "python",
   "name": "python3"
  },
  "language_info": {
   "codemirror_mode": {
    "name": "ipython",
    "version": 3
   },
   "file_extension": ".py",
   "mimetype": "text/x-python",
   "name": "python",
   "nbconvert_exporter": "python",
   "pygments_lexer": "ipython3",
   "version": "3.6.9"
  },
  "orig_nbformat": 4
 },
 "nbformat": 4,
 "nbformat_minor": 2
}
